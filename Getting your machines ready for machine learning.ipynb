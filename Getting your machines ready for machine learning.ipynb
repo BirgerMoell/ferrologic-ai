{
 "cells": [
  {
   "cell_type": "markdown",
   "metadata": {},
   "source": [
    "# Installing all the things for working with machine learning\n",
    "\n",
    "# Windows\n",
    "Start by following the instructions to download Tensorflow.\n",
    "https://www.tensorflow.org/install/install_windows\n",
    "\n",
    "## Easy install\n",
    "Install Anaconda\n",
    "https://www.tensorflow.org/install/install_windows#installing_with_anaconda\n",
    "\n",
    "## Anaconda install\n",
    "https://www.anaconda.com/download/#macos\n",
    "Choose python 3.6.\n",
    "\n",
    "Download Anaconda\n",
    "Install Anaconda\n",
    "\n",
    "Check the box to add Python and other things.\n",
    "\n",
    "## Register Anaconda as default python 3.6\n",
    "Now we wait\n",
    "\n",
    "## Medium install\n",
    "Pip install\n",
    "\n",
    "## Expert install\n",
    "Install with GPU support\n",
    "\n",
    "# Mac\n",
    "https://www.tensorflow.org/install/install_mac\n",
    "\n",
    "\n",
    "\n",
    "\n",
    "\n",
    "# Jupyter notebook\n",
    "\n"
   ]
  },
  {
   "cell_type": "code",
   "execution_count": null,
   "metadata": {},
   "outputs": [],
   "source": []
  }
 ],
 "metadata": {
  "kernelspec": {
   "display_name": "Python 3",
   "language": "python",
   "name": "python3"
  },
  "language_info": {
   "codemirror_mode": {
    "name": "ipython",
    "version": 3
   },
   "file_extension": ".py",
   "mimetype": "text/x-python",
   "name": "python",
   "nbconvert_exporter": "python",
   "pygments_lexer": "ipython3",
   "version": "3.6.4"
  }
 },
 "nbformat": 4,
 "nbformat_minor": 2
}
